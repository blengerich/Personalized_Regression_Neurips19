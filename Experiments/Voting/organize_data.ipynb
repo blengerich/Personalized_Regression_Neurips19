{
 "cells": [
  {
   "cell_type": "code",
   "execution_count": 1,
   "metadata": {},
   "outputs": [
    {
     "data": {
      "text/html": [
       "<div>\n",
       "<style>\n",
       "    .dataframe thead tr:only-child th {\n",
       "        text-align: right;\n",
       "    }\n",
       "\n",
       "    .dataframe thead th {\n",
       "        text-align: left;\n",
       "    }\n",
       "\n",
       "    .dataframe tbody tr th {\n",
       "        vertical-align: top;\n",
       "    }\n",
       "</style>\n",
       "<table border=\"1\" class=\"dataframe\">\n",
       "  <thead>\n",
       "    <tr style=\"text-align: right;\">\n",
       "      <th></th>\n",
       "      <th>candidate</th>\n",
       "      <th>county</th>\n",
       "      <th>fips</th>\n",
       "      <th>precinct</th>\n",
       "      <th>town</th>\n",
       "      <th>votes</th>\n",
       "    </tr>\n",
       "  </thead>\n",
       "  <tbody>\n",
       "    <tr>\n",
       "      <th>0</th>\n",
       "      <td>MITT ROMNEY AND PAUL RYAN</td>\n",
       "      <td>Aitkin</td>\n",
       "      <td>27001.0</td>\n",
       "      <td>NaN</td>\n",
       "      <td>NaN</td>\n",
       "      <td>4533</td>\n",
       "    </tr>\n",
       "    <tr>\n",
       "      <th>1</th>\n",
       "      <td>BARACK OBAMA AND JOE BIDEN</td>\n",
       "      <td>Aitkin</td>\n",
       "      <td>27001.0</td>\n",
       "      <td>NaN</td>\n",
       "      <td>NaN</td>\n",
       "      <td>4412</td>\n",
       "    </tr>\n",
       "    <tr>\n",
       "      <th>2</th>\n",
       "      <td>GARY JOHNSON AND JIM GRAY</td>\n",
       "      <td>Aitkin</td>\n",
       "      <td>27001.0</td>\n",
       "      <td>NaN</td>\n",
       "      <td>NaN</td>\n",
       "      <td>80</td>\n",
       "    </tr>\n",
       "    <tr>\n",
       "      <th>3</th>\n",
       "      <td>JAMES HARRIS AND MAURA DELUCA</td>\n",
       "      <td>Aitkin</td>\n",
       "      <td>27001.0</td>\n",
       "      <td>NaN</td>\n",
       "      <td>NaN</td>\n",
       "      <td>6</td>\n",
       "    </tr>\n",
       "    <tr>\n",
       "      <th>4</th>\n",
       "      <td>VIRGIL GOODE AND JIM CLYMER</td>\n",
       "      <td>Aitkin</td>\n",
       "      <td>27001.0</td>\n",
       "      <td>NaN</td>\n",
       "      <td>NaN</td>\n",
       "      <td>9</td>\n",
       "    </tr>\n",
       "  </tbody>\n",
       "</table>\n",
       "</div>"
      ],
      "text/plain": [
       "                       candidate  county     fips precinct town  votes\n",
       "0      MITT ROMNEY AND PAUL RYAN  Aitkin  27001.0      NaN  NaN   4533\n",
       "1     BARACK OBAMA AND JOE BIDEN  Aitkin  27001.0      NaN  NaN   4412\n",
       "2      GARY JOHNSON AND JIM GRAY  Aitkin  27001.0      NaN  NaN     80\n",
       "3  JAMES HARRIS AND MAURA DELUCA  Aitkin  27001.0      NaN  NaN      6\n",
       "4    VIRGIL GOODE AND JIM CLYMER  Aitkin  27001.0      NaN  NaN      9"
      ]
     },
     "execution_count": 1,
     "metadata": {},
     "output_type": "execute_result"
    }
   ],
   "source": [
    "import numpy as np\n",
    "import os\n",
    "import pandas as pd\n",
    "\n",
    "from_scratch = False\n",
    "\n",
    "#X is representation of candidates (TODO: how to find reps?)\n",
    "# Y is votes\n",
    "# Z is census data (TODO: Add income)\n",
    "\n",
    "vote_directory = \"Data/2012_Election/election-2012-results/data\"\n",
    "df = pd.concat([\n",
    "    pd.read_csv(\"{}/{}\".format(vote_directory, filename), header=0, sep=',') for filename in os.listdir(vote_directory) if \".csv\" in filename])\n",
    "df.head()"
   ]
  },
  {
   "cell_type": "code",
   "execution_count": null,
   "metadata": {
    "collapsed": true
   },
   "outputs": [],
   "source": []
  },
  {
   "cell_type": "code",
   "execution_count": 2,
   "metadata": {},
   "outputs": [
    {
     "name": "stdout",
     "output_type": "stream",
     "text": [
      "3113\n"
     ]
    }
   ],
   "source": [
    "Y_dict = {}\n",
    "extract = lambda x: [xi[0] for xi in x]\n",
    "fips = extract(df[[\"fips\"]].values)\n",
    "precincts = extract(df[[\"precinct\"]].values)\n",
    "votes     = extract(df[[\"votes\"]].values)\n",
    "candidates  = extract(df[[\"candidate\"]].values)\n",
    "counties  = extract(df[[\"county\"]].values)\n",
    "for i in range(len(df)):\n",
    "    if fips[i] > 0:\n",
    "        try:\n",
    "            Y_dict[fips[i]][candidates[i]] = votes[i]\n",
    "        except KeyError:\n",
    "            Y_dict[fips[i]] = {candidates[i]: votes[i]}\n",
    "print(len(Y_dict))\n",
    "\n",
    "all_candidates = set([])\n",
    "for d in Y_dict.values():\n",
    "    all_candidates.update(list(d.keys()))\n",
    "#print(all_candidates)\n",
    "obama_aliases = [c for c in all_candidates if \"obama\" in c.lower()]\n",
    "romney_aliases = [c for c in all_candidates if \"romney\" in c.lower()]\n",
    "goode_aliases = [c for c in all_candidates if \"goode\" in c.lower()]\n",
    "johnson_aliases = [c for c in all_candidates if \"johnson\" in c.lower()]\n",
    "stein_aliases  = [c for c in all_candidates if \"stein\" in c.lower()]"
   ]
  },
  {
   "cell_type": "code",
   "execution_count": 3,
   "metadata": {},
   "outputs": [
    {
     "name": "stdout",
     "output_type": "stream",
     "text": [
      "[[1540 3606    0]\n",
      " [2311 8975   41]\n",
      " [ 764 2152   95]\n",
      " ...\n",
      " [2924 1415  113]\n",
      " [2285 1985   28]\n",
      " [1000 3930   54]]\n"
     ]
    }
   ],
   "source": [
    "Y = []\n",
    "selected_fips = []\n",
    "good_idx = []\n",
    "for i, (fip, d) in enumerate(Y_dict.items()):\n",
    "    o_total = 0\n",
    "    for o_alias in obama_aliases:\n",
    "        try:\n",
    "            o_total += d[o_alias]\n",
    "        except KeyError:\n",
    "            continue\n",
    "    r_total = 0\n",
    "    for r_alias in romney_aliases:\n",
    "        try:\n",
    "            r_total += d[r_alias]\n",
    "        except KeyError:\n",
    "            continue\n",
    "    g_total = 0\n",
    "    for g_alias in goode_aliases:\n",
    "        try:\n",
    "            g_total += d[g_alias]\n",
    "        except KeyError:\n",
    "            continue\n",
    "    j_total = 0\n",
    "    for j_alias in johnson_aliases:\n",
    "        try:\n",
    "            j_total += d[j_alias]\n",
    "        except KeyError:\n",
    "            continue\n",
    "    s_total = 0\n",
    "    for s_alias in stein_aliases:\n",
    "        try:\n",
    "            s_total += d[s_alias]\n",
    "        except KeyError:\n",
    "            continue\n",
    "    selected_fips.append(fip)\n",
    "    Y.append([o_total, r_total, j_total])#[o_total, r_total, g_total, j_total, s_total])\n",
    "    good_idx.append(i)\n",
    "\n",
    "Y = np.array(Y)\n",
    "print(Y)\n",
    "selected_fips = np.array(selected_fips)\n",
    "have_y = np.where(np.sum(Y, axis=1) > 0)\n",
    "good_idx = np.array(good_idx)[have_y]\n",
    "Y = Y[have_y]\n",
    "selected_fips = selected_fips[have_y]"
   ]
  },
  {
   "cell_type": "code",
   "execution_count": 4,
   "metadata": {},
   "outputs": [
    {
     "name": "stdout",
     "output_type": "stream",
     "text": [
      "Error with file cc-est2016-alldata-35.csv\n"
     ]
    }
   ],
   "source": [
    "census_dir = \"Data/2010_Census\"\n",
    "dfs = []\n",
    "for filename in os.listdir(census_dir):\n",
    "    if \".csv\" in filename:\n",
    "        #print(filename)\n",
    "        try:\n",
    "            dfs.append(pd.read_csv(\"{}/{}\".format(census_dir, filename), header=0, sep=','))\n",
    "        except:\n",
    "            print(\"Error with file {}\".format(filename))\n",
    "            continue\n",
    "df = pd.concat(dfs)"
   ]
  },
  {
   "cell_type": "code",
   "execution_count": 5,
   "metadata": {
    "collapsed": true
   },
   "outputs": [],
   "source": [
    "if from_scratch:\n",
    "    covar_names = df.columns.values[7:]\n",
    "    fips_set = set(list(map(int, selected_fips)))\n",
    "    covars_by_fips = {}\n",
    "    states = df[[\"STATE\"]].values\n",
    "    #counties = df[[\"COUNTY\"]].values\n",
    "    print(counties)\n",
    "    age_groups = df[[\"AGEGRP\"]].values\n",
    "    for i in range(len(df)):\n",
    "        fip = states[i][0]*1000 + counties[i][0]\n",
    "        if int(fip) in fips_set and df[[\"YEAR\"]].values[i] == 1:\n",
    "            print(\"{},    {}         \".format(len(covars_by_fips), i), end='\\r')\n",
    "            try:\n",
    "                age_grp = age_groups[i][0]\n",
    "                covars = list(map(lambda x: df[[x]].values[i][0], covar_names))\n",
    "                covars_by_fips[fip][age_grp] = covars\n",
    "            except KeyError:\n",
    "                covars_by_fips[fip] = {age_grp: covars}#{age_grp : list(map(lambda x: df[[x]].values[i][0], covar_names))}\n",
    "        else:\n",
    "            continue\n",
    "    np.save(\"covars.npy\", covars_by_fips)"
   ]
  },
  {
   "cell_type": "code",
   "execution_count": null,
   "metadata": {
    "collapsed": true
   },
   "outputs": [],
   "source": []
  },
  {
   "cell_type": "code",
   "execution_count": 6,
   "metadata": {
    "scrolled": true
   },
   "outputs": [
    {
     "name": "stdout",
     "output_type": "stream",
     "text": [
      "(2847, 1315)\n",
      "(0,)\n",
      "(2847, 3)\n"
     ]
    }
   ],
   "source": [
    "covars_by_fips = np.load(\"covars.npy\")\n",
    "covars_by_fips = covars_by_fips.sum()\n",
    "Y_final = []\n",
    "Z_final = []\n",
    "X_final = []\n",
    "fips_final = []\n",
    "counties_final = []\n",
    "for i in range(len(Y)):\n",
    "    try:\n",
    "        my_covars = covars_by_fips[selected_fips[i]]\n",
    "        #total_pop = sum(list(map(lambda x: int(my_covars[x][0]), range(1, 19))))\n",
    "        #X_final.append(total_pop)\n",
    "        my_covars_flat = []\n",
    "        for j in range(1, 19):\n",
    "            my_covars_flat.extend(my_covars[j])\n",
    "        covars_sum = np.sum(my_covars_flat)\n",
    "        my_covars_flat = np.hstack((my_covars_flat, np.array([covars_sum]) )) # Final value is the total population\n",
    "        Z_final.append(my_covars_flat) # Testing with normalized Z_final.\n",
    "        Y_final.append(Y[i, :])\n",
    "        fips_final.append(selected_fips[i])\n",
    "        counties_final.append(counties[good_idx[i]])\n",
    "    except KeyError:\n",
    "        continue\n",
    "Y_final = np.array(Y_final)\n",
    "Z_final = np.array(Z_final)\n",
    "X_final = np.array(X_final)\n",
    "print(Z_final.shape)\n",
    "print(X_final.shape)\n",
    "print(Y_final.shape)\n",
    "np.save(\"fips.npy\", fips_final)\n",
    "np.save(\"counties.npy\", counties_final)\n",
    "#for i, fip in enumerate(fips_final):\n",
    "#    if int(fip / 1000) == 42:\n",
    "#        print(counties_final[i])"
   ]
  },
  {
   "cell_type": "code",
   "execution_count": 7,
   "metadata": {
    "scrolled": true
   },
   "outputs": [
    {
     "name": "stdout",
     "output_type": "stream",
     "text": [
      "(2847, 225)\n"
     ]
    }
   ],
   "source": [
    "# Add representations to X\n",
    "# https://www.nationalpriorities.org/analysis/2012/election-2012-voter-guide/voter-guide-2012-obama-and-romney-issues/\n",
    "#X_constant_names = [\"Job Creation\", \"Education\", \"ACA\"]\n",
    "# TODO: How to do this?\n",
    "#X_constant_romney = [0., -1., 0., 0., -1.]\n",
    "#X_constant_obama  = [1., 1., 1., 1., 1.]\n",
    "#X = np.hstack((np.expand_dims(X_final, 1), np.tile(X_constant_romney, (len(X), 1))))\n",
    "candidate_reps = {}\n",
    "with open(\"Data/2012_Election/Candidate_Representations/representations.csv\", 'r') as csvfile:\n",
    "    for i, line in enumerate(csvfile):\n",
    "        if i == 0:\n",
    "            header = line.split(\",\")\n",
    "        else:\n",
    "            candidate_reps[line.split(',')[0]] = line.split(\",\")[1:]\n",
    "\n",
    "\n",
    "#X = np.array([candidate_reps[\"Obama\"], candidate_reps[\"Romney\"], candidate_reps[\"Goode\"], candidate_reps[\"Johnson\"],\n",
    "#             candidate_reps[\"Stein\"]])\n",
    "X = np.array([candidate_reps[\"Obama\"], candidate_reps[\"Romney\"], candidate_reps[\"Johnson\"]])\n",
    "#X = X.flatten()\n",
    "\n",
    "\n",
    "#X = np.hstack((X[0, :], X[1, :], X[2, :], X[3, :], X[4, :]))\n",
    "X = np.hstack((X[i, :] for i in range(X.shape[0])))\n",
    "X = np.tile(X, (len(Y_final), 1))\n",
    "#X = np.hstack((X, np.tile(X_constant_obama,  (len(X), 1))))\n",
    "print(X.shape)"
   ]
  },
  {
   "cell_type": "code",
   "execution_count": 8,
   "metadata": {},
   "outputs": [
    {
     "name": "stdout",
     "output_type": "stream",
     "text": [
      "[[0.29926156 0.70073844 0.        ]\n",
      " [0.20402578 0.79235455 0.00361967]\n",
      " [0.2537363  0.71471272 0.03155098]\n",
      " ...\n",
      " [0.65678347 0.31783468 0.02538185]\n",
      " [0.53164262 0.46184272 0.00651466]\n",
      " [0.20064205 0.78852327 0.01083467]]\n",
      "[[ 0.00595238  0.         -0.00595238 ...  0.00595238 -0.00595238\n",
      "   0.        ]\n",
      " [ 0.00595238  0.         -0.00595238 ...  0.00595238 -0.00595238\n",
      "   0.        ]\n",
      " [ 0.00595238  0.         -0.00595238 ...  0.00595238 -0.00595238\n",
      "   0.        ]\n",
      " ...\n",
      " [ 0.00595238  0.         -0.00595238 ...  0.00595238 -0.00595238\n",
      "   0.        ]\n",
      " [ 0.00595238  0.         -0.00595238 ...  0.00595238 -0.00595238\n",
      "   0.        ]\n",
      " [ 0.00595238  0.         -0.00595238 ...  0.00595238 -0.00595238\n",
      "   0.        ]]\n",
      "Reducing Z size... Finished.\n"
     ]
    }
   ],
   "source": [
    "from sklearn.model_selection import train_test_split\n",
    "from sklearn.preprocessing import normalize\n",
    "Y_final = normalize(Y_final, axis=1, norm='l1')\n",
    "print(Y_final)\n",
    "X_final = normalize(X, axis=1, norm='l1')\n",
    "print(X_final)\n",
    "X_train, X_test, Y_train, Y_test, Z_train, Z_test, fips_train, fips_test, counties_train, counties_test = train_test_split(\n",
    "    X_final, Y_final, Z_final, fips_final, counties_final, test_size=0.25)\n",
    "\n",
    "if Z_train.shape[1] > 10:\n",
    "    print(\"Reducing Z size...\", end=' ')\n",
    "    from sklearn.decomposition import PCA\n",
    "    pca = PCA(n_components=10)\n",
    "    Z_train = np.hstack((pca.fit_transform(Z_train[:, :-1]), np.expand_dims(Z_train[:, -1], 1)))\n",
    "    Z_test  = np.hstack((pca.transform(Z_test[:, :-1]), np.expand_dims(Z_test[:, -1], 1)))\n",
    "    print(\"Finished.\")\n",
    "K = Z_train.shape[1]\n",
    "\n",
    "np.save(\"X_train.npy\", X_train)\n",
    "np.save(\"Y_train.npy\", Y_train)\n",
    "np.save(\"Z_train.npy\", Z_train)\n",
    "np.save(\"X_test.npy\", X_test)\n",
    "np.save(\"Y_test.npy\", Y_test)\n",
    "np.save(\"Z_test.npy\", Z_test)\n",
    "np.save(\"fips_train.npy\", fips_train)\n",
    "np.save(\"fips_test.npy\", fips_test)\n",
    "np.save(\"counties_train.npy\", counties_train)\n",
    "np.save(\"counties_test.npy\", counties_test)"
   ]
  },
  {
   "cell_type": "code",
   "execution_count": 9,
   "metadata": {
    "scrolled": true
   },
   "outputs": [
    {
     "name": "stdout",
     "output_type": "stream",
     "text": [
      "[[-2.20809992e+04  2.87585173e+03 -1.97909022e+03 ... -3.71099594e+02\n",
      "  -3.92757427e+02  3.53179000e+05]\n",
      " [-3.83551710e+04  7.25797080e+03  1.76539259e+03 ... -4.32235738e+02\n",
      "  -1.91606239e+02  8.73590000e+04]\n",
      " [-3.16266342e+04  4.68438757e+03  9.29526286e+02 ... -5.22875357e+01\n",
      "  -2.13577730e+02  1.95313000e+05]\n",
      " ...\n",
      " [-4.28249661e+04  8.77750466e+03  2.93564374e+03 ... -6.54922003e+02\n",
      "  -6.79447024e+01  1.29460000e+04]\n",
      " [-3.31108961e+04  6.38926957e+03  1.00109880e+03 ...  3.10990500e+01\n",
      "   1.29034863e+02  1.76139000e+05]\n",
      " [-1.72501289e+04 -1.37968408e+03 -2.39393379e+03 ...  4.69401053e+02\n",
      "   7.76163729e+01  4.37596000e+05]]\n"
     ]
    },
    {
     "data": {
      "text/plain": [
       "(array([ 60., 208., 431., 488., 438., 270., 146.,  60.,  23.,  11.]),\n",
       " array([0.05793468, 0.14406505, 0.23019542, 0.31632579, 0.40245616,\n",
       "        0.48858653, 0.57471689, 0.66084726, 0.74697763, 0.833108  ,\n",
       "        0.91923837]),\n",
       " <a list of 10 Patch objects>)"
      ]
     },
     "execution_count": 9,
     "metadata": {},
     "output_type": "execute_result"
    },
    {
     "data": {
      "image/png": "[encoded data removed]",
      "text/plain": [
       "<Figure size 432x288 with 1 Axes>"
      ]
     },
     "metadata": {},
     "output_type": "display_data"
    }
   ],
   "source": [
    "print(Z_train)\n",
    "import matplotlib.pyplot as plt\n",
    "%matplotlib inline\n",
    "\n",
    "plt.hist(Y_train[:, 0])"
   ]
  },
  {
   "cell_type": "code",
   "execution_count": 10,
   "metadata": {},
   "outputs": [
    {
     "data": {
      "text/plain": [
       "(array([ 11.,  23.,  65., 153., 271., 454., 488., 433., 183.,  54.]),\n",
       " array([0.07359208, 0.15985448, 0.24611689, 0.33237929, 0.4186417 ,\n",
       "        0.50490411, 0.59116651, 0.67742892, 0.76369133, 0.84995373,\n",
       "        0.93621614]),\n",
       " <a list of 10 Patch objects>)"
      ]
     },
     "execution_count": 10,
     "metadata": {},
     "output_type": "execute_result"
    },
    {
     "data": {
      "image/png": "[encoded data removed]",
      "text/plain": [
       "<Figure size 432x288 with 1 Axes>"
      ]
     },
     "metadata": {},
     "output_type": "display_data"
    }
   ],
   "source": [
    "plt.hist(Y_train[:, 1])"
   ]
  },
  {
   "cell_type": "code",
   "execution_count": 1,
   "metadata": {},
   "outputs": [
    {
     "ename": "NameError",
     "evalue": "name 'X_train' is not defined",
     "output_type": "error",
     "traceback": [
      "\u001b[0;31m---------------------------------------------------------------------------\u001b[0m",
      "\u001b[0;31mNameError\u001b[0m                                 Traceback (most recent call last)",
      "\u001b[0;32m<ipython-input-1-98fb1884b840>\u001b[0m in \u001b[0;36m<module>\u001b[0;34m()\u001b[0m\n\u001b[1;32m     17\u001b[0m \u001b[0mlearning_rate\u001b[0m \u001b[0;34m=\u001b[0m \u001b[0mtf\u001b[0m\u001b[0;34m.\u001b[0m\u001b[0mVariable\u001b[0m\u001b[0;34m(\u001b[0m\u001b[0mlr\u001b[0m\u001b[0;34m)\u001b[0m\u001b[0;34m\u001b[0m\u001b[0m\n\u001b[1;32m     18\u001b[0m \u001b[0;34m\u001b[0m\u001b[0m\n\u001b[0;32m---> 19\u001b[0;31m \u001b[0mX_shape\u001b[0m \u001b[0;34m=\u001b[0m \u001b[0mX_train\u001b[0m\u001b[0;34m.\u001b[0m\u001b[0mshape\u001b[0m\u001b[0;34m[\u001b[0m\u001b[0;36m1\u001b[0m\u001b[0;34m]\u001b[0m \u001b[0;34m+\u001b[0m \u001b[0mZ_train\u001b[0m\u001b[0;34m.\u001b[0m\u001b[0mshape\u001b[0m\u001b[0;34m[\u001b[0m\u001b[0;36m1\u001b[0m\u001b[0;34m]\u001b[0m\u001b[0;34m\u001b[0m\u001b[0m\n\u001b[0m\u001b[1;32m     20\u001b[0m \u001b[0mY_shape\u001b[0m \u001b[0;34m=\u001b[0m \u001b[0;34m[\u001b[0m\u001b[0;36m1\u001b[0m\u001b[0;34m]\u001b[0m\u001b[0;34m\u001b[0m\u001b[0m\n\u001b[1;32m     21\u001b[0m \u001b[0;34m\u001b[0m\u001b[0m\n",
      "\u001b[0;31mNameError\u001b[0m: name 'X_train' is not defined"
     ]
    }
   ],
   "source": []
  },
  {
   "cell_type": "code",
   "execution_count": null,
   "metadata": {
    "collapsed": true
   },
   "outputs": [],
   "source": []
  },
  {
   "cell_type": "code",
   "execution_count": 11,
   "metadata": {
    "collapsed": true
   },
   "outputs": [],
   "source": [
    "import os\n",
    "import sys\n",
    "sys.path.insert(1, os.path.join(sys.path[0], '..'))\n",
    "from distance_matching_functional import DistanceMatching\n",
    "import functions\n",
    "import utils\n",
    "\n",
    "N = X_train.shape[0]\n",
    "P = X_train.shape[1]\n",
    "K = Z_train.shape[1]\n",
    "beta_target = np.zeros((N, P))\n",
    "\n",
    "lam=1e-5\n",
    "gamma = 2e4\n",
    "alpha = 1e0\n",
    "upsilon = 1e-2\n",
    "inter_penalty = 2e2\n",
    "l2_ratio = 1.0\n",
    "rho_beta = lambda beta, i: lam*(functions.lasso_penalty(beta, beta_target[i])\n",
    "                                + l2_ratio*functions.l2_penalty(beta, beta_target[i])\n",
    "                               + inter_penalty*(beta[-1]**2))\n",
    "rho_beta_prime = lambda beta, i:lam*(functions.lasso_derivative(beta, beta_target[i])\n",
    "                                     + l2_ratio*functions.l2_prime(beta, beta_target[i])\n",
    "                                    + 2*inter_penalty*np.vstack((np.zeros_like(beta[:-1]), beta[-1])))\n",
    "\n",
    "init_phi_beta = np.hstack((utils.soft_normalize(np.ones((P*Y_train.shape[1])))))\n",
    "psi_beta = lambda phi_beta: 0.5*alpha*np.linalg.norm(phi_beta - init_phi_beta, ord=2)\n",
    "psi_beta_prime = lambda phi_beta: alpha*(phi_beta - init_phi_beta)\n",
    "\n",
    "init_phi_u = utils.soft_normalize(np.ones((K)))\n",
    "psi_u      = lambda phi_u: upsilon*np.linalg.norm(phi_u, ord=1)\n",
    "psi_u_prime = lambda phi_u: upsilon*np.sign(phi_u)\n",
    "\n",
    "init_beta_scale=3e0\n",
    "psi_beta_scale = lambda beta_scale: 1e-3*(1./beta_scale)\n",
    "psi_beta_scale_prime = lambda beta_scale: -1e-3*(beta_scale**(-2))\n",
    "\n",
    "init_beta = np.zeros((N, P))\n",
    "dmr = DistanceMatching(init_beta=init_beta,\n",
    "                       f=lambda x, y, b: functions.logistic_loss_multitask(x, y, b.T),\n",
    "                       f_prime= lambda x, y, b: functions.logistic_loss_prime_multitask(x, y, b),\n",
    "                       gamma=gamma, n_neighbors=25, calc_closest_every=5,\n",
    "                       rho_beta=rho_beta,\n",
    "                       rho_beta_prime = rho_beta_prime,\n",
    "                       init_phi_beta = init_phi_beta,\n",
    "                       psi_beta = psi_beta,\n",
    "                       psi_beta_prime = psi_beta_prime,\n",
    "                       init_phi_u=init_phi_u,\n",
    "                       psi_u=psi_u,\n",
    "                       psi_u_prime=psi_u_prime,\n",
    "                       init_beta_scale=init_beta_scale,\n",
    "                       psi_beta_scale=psi_beta_scale,\n",
    "                       psi_beta_scale_prime=psi_beta_scale_prime,\n",
    "                       intercept=False, n_threads=0)\n",
    "\n",
    "dZ = [\n",
    "    lambda x,y: functions.safe_wrapper(x, y, functions.abs_diff)\n",
    "]\n",
    "\n",
    "for _ in range(K-1):\n",
    "    dZ.append(lambda x,y: functions.safe_wrapper(x, y, functions.abs_diff))"
   ]
  },
  {
   "cell_type": "code",
   "execution_count": 12,
   "metadata": {
    "scrolled": true
   },
   "outputs": [
    {
     "name": "stdout",
     "output_type": "stream",
     "text": [
      "Making Co-Variate Distance Matrix of Size 2135x2135x11\n",
      "Finished making unnormalized version.\n",
      "Finished normalizing.\n",
      "Took 167.681 seconds.\n"
     ]
    }
   ],
   "source": [
    "delta_Z = dmr.make_covariate_distances(Z_train, dZ, len(dZ), len(Z_train), should_normalize=True)"
   ]
  },
  {
   "cell_type": "code",
   "execution_count": 13,
   "metadata": {
    "collapsed": true
   },
   "outputs": [],
   "source": [
    "np.save(\"delta_Z.npy\", delta_Z)"
   ]
  },
  {
   "cell_type": "code",
   "execution_count": 14,
   "metadata": {
    "collapsed": true
   },
   "outputs": [],
   "source": [
    "delta_Z = np.load(\"delta_Z.npy\")"
   ]
  },
  {
   "cell_type": "code",
   "execution_count": 15,
   "metadata": {
    "collapsed": true
   },
   "outputs": [],
   "source": [
    "#print(delta_Z)\n",
    "Z_train = np.load(\"Z_train.npy\")"
   ]
  },
  {
   "cell_type": "code",
   "execution_count": 16,
   "metadata": {},
   "outputs": [
    {
     "name": "stdout",
     "output_type": "stream",
     "text": [
      "(2135, 11)\n",
      "(2135, 2135, 11)\n"
     ]
    }
   ],
   "source": [
    "print(Z_train.shape)\n",
    "print(delta_Z.shape)"
   ]
  },
  {
   "cell_type": "code",
   "execution_count": null,
   "metadata": {
    "collapsed": true
   },
   "outputs": [],
   "source": []
  },
  {
   "cell_type": "code",
   "execution_count": null,
   "metadata": {
    "collapsed": true
   },
   "outputs": [],
   "source": []
  }
 ],
 "metadata": {
  "kernelspec": {
   "display_name": "Python 3",
   "language": "python",
   "name": "python3"
  },
  "language_info": {
   "codemirror_mode": {
    "name": "ipython",
    "version": 3
   },
   "file_extension": ".py",
   "mimetype": "text/x-python",
   "name": "python",
   "nbconvert_exporter": "python",
   "pygments_lexer": "ipython3",
   "version": "3.4.3"
  }
 },
 "nbformat": 4,
 "nbformat_minor": 2
}
